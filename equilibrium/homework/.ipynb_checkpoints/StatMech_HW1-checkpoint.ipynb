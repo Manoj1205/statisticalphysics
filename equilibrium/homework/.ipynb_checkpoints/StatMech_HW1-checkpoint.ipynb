{
 "metadata": {
  "name": ""
 },
 "nbformat": 3,
 "nbformat_minor": 0,
 "worksheets": [
  {
   "cells": [
    {
     "cell_type": "code",
     "collapsed": false,
     "input": [
      "%pylab inline"
     ],
     "language": "python",
     "metadata": {},
     "outputs": [
      {
       "output_type": "stream",
       "stream": "stdout",
       "text": [
        "Populating the interactive namespace from numpy and matplotlib\n"
       ]
      }
     ],
     "prompt_number": 1
    },
    {
     "cell_type": "code",
     "collapsed": false,
     "input": [
      "from sympy import *\n",
      "from pylab import *"
     ],
     "language": "python",
     "metadata": {},
     "outputs": [],
     "prompt_number": 16
    },
    {
     "cell_type": "code",
     "collapsed": false,
     "input": [
      "import matplotlib.pyplot as plt"
     ],
     "language": "python",
     "metadata": {},
     "outputs": [],
     "prompt_number": 3
    },
    {
     "cell_type": "code",
     "collapsed": false,
     "input": [
      "from sympy.interactive import printing\n",
      "printing.init_printing(use_latex=True)\n",
      "from IPython.display import display\n",
      "a,x,Z = symbols('a,x,Z')"
     ],
     "language": "python",
     "metadata": {},
     "outputs": [],
     "prompt_number": 4
    },
    {
     "cell_type": "markdown",
     "metadata": {},
     "source": [
      "## Problem 1"
     ]
    },
    {
     "cell_type": "markdown",
     "metadata": {},
     "source": [
      "### 1D"
     ]
    },
    {
     "cell_type": "markdown",
     "metadata": {},
     "source": [
      "The partition function for 1D system is"
     ]
    },
    {
     "cell_type": "markdown",
     "metadata": {},
     "source": [
      "$Z = \\sum_i e^{-\\beta E_i}$"
     ]
    },
    {
     "cell_type": "markdown",
     "metadata": {},
     "source": [
      "The probability on a state $E_i$"
     ]
    },
    {
     "cell_type": "markdown",
     "metadata": {},
     "source": [
      "$$P(E_i) = \\frac{e^{-\\beta E_i}}{Z}$$"
     ]
    },
    {
     "cell_type": "markdown",
     "metadata": {},
     "source": [
      "In our case, there are only two possible energy states, $E_1 = -\\mu B$, $E_2 = \\mu B$. So the magnetization is"
     ]
    },
    {
     "cell_type": "markdown",
     "metadata": {},
     "source": [
      "$$ M =  \\mu N \\left( e^{\\beta \\mu B} - e^{-\\beta \\mu B} \\right)/Z$$"
     ]
    },
    {
     "cell_type": "markdown",
     "metadata": {},
     "source": [
      "Write magnetization as a function of $T$ and $T$."
     ]
    },
    {
     "cell_type": "markdown",
     "metadata": {},
     "source": [
      "$$M(T,B) = \\mu N \\frac{ \\left( e^{\\mu B /(k_B T)} - e^{- \\mu B/(k_B T)} \\right)  }  {  \\left(  e^{\\mu B /(k_B T)} + e^{- \\mu B/(k_B T)}  \\right)  } = \\mu N \\tanh(\\mu B /(k_B T))$$"
     ]
    },
    {
     "cell_type": "markdown",
     "metadata": {},
     "source": [
      "###### $M$ vs $T$ Plots"
     ]
    },
    {
     "cell_type": "markdown",
     "metadata": {},
     "source": [
      "To plot $M~T$, we need to make a quantity with dimension of $T$ . $\\bar T = \\mu B/k_B$ will do the work."
     ]
    },
    {
     "cell_type": "markdown",
     "metadata": {},
     "source": [
      "$$\\frac{M(T)}{\\bar M} = e^{\\bar T/T} - e^{-\\bar T/T} $$"
     ]
    },
    {
     "cell_type": "markdown",
     "metadata": {},
     "source": [
      "in which, $\\bar M = \\mu N$ ."
     ]
    },
    {
     "cell_type": "markdown",
     "metadata": {},
     "source": [
      "At $T \\rightarrow \\infty $ limit, we have the magnetization $M$ is 0. This is because high temperature distroys the alignment of dipoles."
     ]
    },
    {
     "cell_type": "code",
     "collapsed": false,
     "input": [
      "tanh(0)"
     ],
     "language": "python",
     "metadata": {},
     "outputs": [
      {
       "latex": [
        "$$0.0$$"
       ],
       "metadata": {},
       "output_type": "pyout",
       "png": "[encoded data removed]",
       "prompt_number": 5,
       "text": [
        "0.0"
       ]
      }
     ],
     "prompt_number": 5
    },
    {
     "cell_type": "markdown",
     "metadata": {},
     "source": [
      "At $T\\rightarrow \\infty$, we have $\\frac{M}{\\bar M}$ 1."
     ]
    },
    {
     "cell_type": "code",
     "collapsed": false,
     "input": [
      "tanh(inf)"
     ],
     "language": "python",
     "metadata": {},
     "outputs": [
      {
       "latex": [
        "$$1.0$$"
       ],
       "metadata": {},
       "output_type": "pyout",
       "png": "[encoded data removed]",
       "prompt_number": 6,
       "text": [
        "1.0"
       ]
      }
     ],
     "prompt_number": 6
    },
    {
     "cell_type": "markdown",
     "metadata": {},
     "source": [
      "At very low temperature, the dipoles have no random motion so all dipoles aligned together thus $M$ is 1."
     ]
    },
    {
     "cell_type": "markdown",
     "metadata": {},
     "source": [
      "Now plot out this result."
     ]
    },
    {
     "cell_type": "code",
     "collapsed": false,
     "input": [
      "t = linspace(0, 100, 1000)\n",
      "mt = tanh(1/t)\n",
      "\n",
      "fig11 = plt.figure()\n",
      "\n",
      "axes = fig11.add_axes([0.1, 0.1, 0.8, 0.8]) # left, bottom, width, height (range 0 to 1)\n",
      "\n",
      "axes.plot(t, mt, 'r')\n",
      "\n",
      "axes.set_xlabel('T bar')\n",
      "axes.set_ylabel('M bar')\n",
      "axes.set_title('M ~ T');"
     ],
     "language": "python",
     "metadata": {},
     "outputs": [
      {
       "output_type": "stream",
       "stream": "stderr",
       "text": [
        "-c:2: RuntimeWarning: divide by zero encountered in divide\n"
       ]
      },
      {
       "metadata": {},
       "output_type": "display_data",
       "png": "[encoded data removed]",
       "text": [
        "<matplotlib.figure.Figure at 0xa6fcbac>"
       ]
      }
     ],
     "prompt_number": 7
    },
    {
     "cell_type": "markdown",
     "metadata": {},
     "source": [
      "This plot agrees with our results of the limits."
     ]
    },
    {
     "cell_type": "markdown",
     "metadata": {},
     "source": [
      "###### $M$ vs $B$ Plots"
     ]
    },
    {
     "cell_type": "markdown",
     "metadata": {},
     "source": [
      "Define a unit magnetic induction $\\bar B = k_B T/\\mu$. Write the magnetization as a function of $B$."
     ]
    },
    {
     "cell_type": "markdown",
     "metadata": {},
     "source": [
      "$$ \\frac{M(B)}{\\bar M} = \\tanh(B/\\bar B) $$"
     ]
    },
    {
     "cell_type": "markdown",
     "metadata": {},
     "source": [
      "At the limit of $B\\rightarrow 0$, we have $M\\rightarrow 0$, which is because no magnetic field is there to align the dipoles. (No interactions between dipoles.)"
     ]
    },
    {
     "cell_type": "markdown",
     "metadata": {},
     "source": [
      "At the limit of $B\\rightarrow \\infty$, we have $M\\rightarrow 1$, which is because infinite magnetic field can align all the dipoles to one direction no matter how strong the thermal random motion is."
     ]
    },
    {
     "cell_type": "markdown",
     "metadata": {},
     "source": [
      "Plot the result."
     ]
    },
    {
     "cell_type": "code",
     "collapsed": false,
     "input": [
      "b = linspace(0, 5, 100)\n",
      "mb = tanh(b)\n",
      "\n",
      "fig12 = plt.figure()\n",
      "\n",
      "axes = fig12.add_axes([0.1, 0.1, 0.8, 0.8]) # left, bottom, width, height (range 0 to 1)\n",
      "\n",
      "axes.plot(b, mb, 'r')\n",
      "\n",
      "axes.set_xlabel('B/Bbar')\n",
      "axes.set_ylabel('M/Mbar')\n",
      "axes.set_title('M ~ B');"
     ],
     "language": "python",
     "metadata": {},
     "outputs": [
      {
       "metadata": {},
       "output_type": "display_data",
       "png": "[encoded data removed]",
       "text": [
        "<matplotlib.figure.Figure at 0xa75c5ac>"
       ]
      }
     ],
     "prompt_number": 8
    },
    {
     "cell_type": "markdown",
     "metadata": {},
     "source": [
      "###### Heat Capacity"
     ]
    },
    {
     "cell_type": "markdown",
     "metadata": {},
     "source": [
      "Energy of the system is"
     ]
    },
    {
     "cell_type": "markdown",
     "metadata": {},
     "source": [
      "$$ E = - \\mu B N \\tanh(\\mu B /(k_B T)) $$"
     ]
    },
    {
     "cell_type": "code",
     "collapsed": false,
     "input": [
      "t13e = linspace(0, 5, 100)\n",
      "e1 = -tanh(t13e)\n",
      "\n",
      "fig13e = plt.figure()\n",
      "\n",
      "axes = fig13e.add_axes([0.1, 0.1, 0.8, 0.8]) # left, bottom, width, height (range 0 to 1)\n",
      "\n",
      "axes.plot(t13e, e1, 'r')\n",
      "\n",
      "axes.set_xlabel('T/Tbar')\n",
      "axes.set_ylabel('E/Ebar')\n",
      "axes.set_title('E ~ T');"
     ],
     "language": "python",
     "metadata": {},
     "outputs": [
      {
       "metadata": {},
       "output_type": "display_data",
       "png": "[encoded data removed]",
       "text": [
        "<matplotlib.figure.Figure at 0xa81956c>"
       ]
      }
     ],
     "prompt_number": 9
    },
    {
     "cell_type": "markdown",
     "metadata": {},
     "source": [
      "Heat capacity is"
     ]
    },
    {
     "cell_type": "markdown",
     "metadata": {},
     "source": [
      "$$ C = \\frac{\\partial}{\\partial T} E = \\frac{\\mu^2 B^2 N}{k_B} \\frac{ (1 - \\tanh^2(\\mu B/(k_B T)) }{T^2} $$"
     ]
    },
    {
     "cell_type": "code",
     "collapsed": false,
     "input": [
      "t13 = linspace(0, 5, 100)\n",
      "c1 = tanh(t13)\n",
      "\n",
      "fig13 = plt.figure()\n",
      "\n",
      "axes = fig13.add_axes([0.1, 0.1, 0.8, 0.8]) # left, bottom, width, height (range 0 to 1)\n",
      "\n",
      "axes.plot(t13, c1, 'r')\n",
      "\n",
      "axes.set_xlabel('T/Tbar')\n",
      "axes.set_ylabel('C/Cbar')\n",
      "axes.set_title('C ~ T');"
     ],
     "language": "python",
     "metadata": {},
     "outputs": [
      {
       "metadata": {},
       "output_type": "display_data",
       "png": "[encoded data removed]",
       "text": [
        "<matplotlib.figure.Figure at 0xa76188c>"
       ]
      }
     ],
     "prompt_number": 10
    },
    {
     "cell_type": "markdown",
     "metadata": {},
     "source": [
      "### 2D"
     ]
    },
    {
     "cell_type": "markdown",
     "metadata": {},
     "source": [
      "The energy of a dipole can be written as $E(\\theta) = -\\mu B \\cos\\theta$, in which $\\theta$ is the angle between the dipole and magnetic field."
     ]
    },
    {
     "cell_type": "markdown",
     "metadata": {},
     "source": [
      "Partition function is"
     ]
    },
    {
     "cell_type": "markdown",
     "metadata": {},
     "source": [
      "$$ Z = \\int _ \\theta 2 e^{-\\beta E(\\theta)} \\mathrm d \\theta  = 2\\pi \\mathrm {BesselI}(0, \\mu B \\beta) $$"
     ]
    },
    {
     "cell_type": "markdown",
     "metadata": {},
     "source": [
      "where $\\mathrm{BesselI}$ is the modified Bessel function of the first kind."
     ]
    },
    {
     "cell_type": "markdown",
     "metadata": {},
     "source": [
      "Then we can calculate magnetization, which is given by"
     ]
    },
    {
     "cell_type": "markdown",
     "metadata": {},
     "source": [
      "$$ M = \\frac{1}{Z}\\int _ \\theta 2N\\mu \\cos\\theta e^{-\\beta E(\\theta)} d \\theta  $$"
     ]
    },
    {
     "cell_type": "markdown",
     "metadata": {},
     "source": [
      "The result given by Mathematica is (so bad that I can't make sympy to deal with such integrations.)"
     ]
    },
    {
     "cell_type": "markdown",
     "metadata": {},
     "source": [
      "$$ M = \\mu N \\frac{ \\mathrm{BesselI}(1, B \\beta \\mu)  }{ \\mathrm{BesselI}(0, B \\beta \\mu) }$$"
     ]
    },
    {
     "cell_type": "markdown",
     "metadata": {},
     "source": [
      "Energy should be"
     ]
    },
    {
     "cell_type": "markdown",
     "metadata": {},
     "source": [
      "$$ E = - \\mu B N \\frac{ \\mathrm{BesselI}(1, B \\beta \\mu)  }{ \\mathrm{BesselI}(0, B \\beta \\mu) }$$"
     ]
    },
    {
     "cell_type": "markdown",
     "metadata": {},
     "source": [
      "Heat capacity is the derivitive of energy over temperature."
     ]
    },
    {
     "cell_type": "markdown",
     "metadata": {},
     "source": [
      "$$ C = B^2 \\mu^2 N  \\frac{-2 \\mathrm{BesselI}(0, B \\beta \\mu)^2 +  \\mathrm{BesselI}(0,\\mu\\beta B)(  \\mathrm{BesselI}(0,\\mu\\beta B) + \\mathrm{BesselI}(2,\\mu\\beta B)   ) }{2 k T^2 \\mathrm{BesselI}(0, B \\beta \\mu)^2} $$"
     ]
    },
    {
     "cell_type": "markdown",
     "metadata": {},
     "source": [
      "Plot out these results using Mathematica."
     ]
    },
    {
     "cell_type": "markdown",
     "metadata": {},
     "source": [
      "![](https://raw.github.com/emptymalei/StatisticalPhysics/master/equilibrium/homework/images/magb2.png)"
     ]
    },
    {
     "cell_type": "markdown",
     "metadata": {},
     "source": [
      "![](https://raw.github.com/emptymalei/StatisticalPhysics/master/equilibrium/homework/images/magt2.png)"
     ]
    },
    {
     "cell_type": "markdown",
     "metadata": {},
     "source": [
      "![](https://raw.github.com/emptymalei/StatisticalPhysics/master/equilibrium/homework/images/capt2.png)"
     ]
    },
    {
     "cell_type": "markdown",
     "metadata": {},
     "source": [
      "### 3D"
     ]
    },
    {
     "cell_type": "markdown",
     "metadata": {},
     "source": [
      "Energy of a dipole is $E(\\theta) = -\\mu B \\cos\\theta$."
     ]
    },
    {
     "cell_type": "markdown",
     "metadata": {},
     "source": [
      "Then we can calculate the partition function, which is"
     ]
    },
    {
     "cell_type": "markdown",
     "metadata": {},
     "source": [
      "$$ Z = \\int_\\theta \\int _ \\phi N e^{-\\beta E(\\theta)}\\sin\\theta d\\theta d \\phi = 4\\pi N\\frac{ \\sinh(\\mu B \\beta)}{\\mu B \\beta} $$"
     ]
    },
    {
     "cell_type": "markdown",
     "metadata": {},
     "source": [
      "Magnetization is"
     ]
    },
    {
     "cell_type": "markdown",
     "metadata": {},
     "source": [
      "$$ M =  -\\frac{\\mu N}{\\mu B \\beta} + \\mu N \\coth(\\mu B \\beta) = \\mu N \\left(  - \\frac{\\bar B}{B} + \\coth \\left(\\frac{B}{\\bar B}\\right) \\right) $$"
     ]
    },
    {
     "cell_type": "markdown",
     "metadata": {},
     "source": [
      "where $\\bar B = \\frac{1}{\\mu \\beta}$. Define $\\bar M = \\mu N$ .Then we can write down the dimensionless equation, which is"
     ]
    },
    {
     "cell_type": "markdown",
     "metadata": {},
     "source": [
      "$$ \\frac{M}{\\bar M} =  - \\frac{\\bar B}{B} + \\coth \\left(\\frac{B}{\\bar B}\\right) $$"
     ]
    },
    {
     "cell_type": "markdown",
     "metadata": {},
     "source": [
      "Total energy is"
     ]
    },
    {
     "cell_type": "markdown",
     "metadata": {},
     "source": [
      "$$ E = \\frac{1}{Z} \\int _ \\phi \\int _ \\theta (-\\mu B \\cos\\theta N) e^{-\\mu E(\\theta)}\\sin\\theta d \\theta d\\phi = - N \\left( \\frac{1}{\\beta} - B \\mu \\coth(\\mu \\beta B) \\right)  $$"
     ]
    },
    {
     "cell_type": "markdown",
     "metadata": {},
     "source": [
      "Take the derivative with respect to temperature, we have the heat capacity."
     ]
    },
    {
     "cell_type": "markdown",
     "metadata": {},
     "source": [
      "$$ C = N \\left( 1 - \\left(\\frac{\\bar T}{T} \\right)^2 \\mathrm{csch}^2 \\left( \\frac{\\bar T}{T} \\right) \\right) $$"
     ]
    },
    {
     "cell_type": "markdown",
     "metadata": {},
     "source": [
      "Plot out the results."
     ]
    },
    {
     "cell_type": "markdown",
     "metadata": {},
     "source": [
      "![](https://raw.github.com/emptymalei/StatisticalPhysics/master/equilibrium/homework/images/magb3.png)"
     ]
    },
    {
     "cell_type": "markdown",
     "metadata": {},
     "source": [
      "![](https://raw.github.com/emptymalei/StatisticalPhysics/master/equilibrium/homework/images/magt3.png)"
     ]
    },
    {
     "cell_type": "markdown",
     "metadata": {},
     "source": [
      "![](https://raw.github.com/emptymalei/StatisticalPhysics/master/equilibrium/homework/images/capt3.png)"
     ]
    },
    {
     "cell_type": "markdown",
     "metadata": {},
     "source": [
      "## Problem 2"
     ]
    },
    {
     "cell_type": "markdown",
     "metadata": {},
     "source": [
      "#### First law of thermodynamics"
     ]
    },
    {
     "cell_type": "markdown",
     "metadata": {},
     "source": [
      "Energy can be transfered from one form to another, or from one system to another, but can never be disapear. The total energy of a closed system is conserved. For any infinitesimal process, the change of internal energy is equivalent to the sum of work done to other systems and heat obsorbed from other systems, which is to say, in the language of mathematiccs,"
     ]
    },
    {
     "cell_type": "heading",
     "level": 4,
     "metadata": {},
     "source": [
      "$$ \\mathrm d U = \\mathrm d Q + \\mathrm d W $$"
     ]
    },
    {
     "cell_type": "markdown",
     "metadata": {},
     "source": [
      "#### Entropy"
     ]
    },
    {
     "cell_type": "markdown",
     "metadata": {},
     "source": [
      "Basicly, at high temperature and in large systems, entropy is the dominant of all marco properties of a system. Entropy indicates the reversibility of a process, defines Kelvin and restricts us from reaching absolute zero."
     ]
    },
    {
     "cell_type": "markdown",
     "metadata": {},
     "source": [
      "The most important property of entropy is that it is a function that only depends on state of the system not the path. This property can lead us to many interesting results."
     ]
    },
    {
     "cell_type": "markdown",
     "metadata": {},
     "source": [
      "#### Free energy"
     ]
    },
    {
     "cell_type": "markdown",
     "metadata": {},
     "source": [
      "As I have learned in undergrad stat mech, free energy is a quantity defined to make our life easier when dealing with systems which has fixed temperature and fixed volume. In that case, free energy can never grow larger. Mathematically,"
     ]
    },
    {
     "cell_type": "markdown",
     "metadata": {},
     "source": [
      "$$ \\mathrm d F \\leq 0 $$"
     ]
    },
    {
     "cell_type": "markdown",
     "metadata": {},
     "source": [
      "Suppose we have a gas system going through a reversible process, free energy"
     ]
    },
    {
     "cell_type": "markdown",
     "metadata": {},
     "source": [
      "$$ \\mathrm d F = - S\\mathrm d T - p \\mathrm d V $$"
     ]
    },
    {
     "cell_type": "markdown",
     "metadata": {},
     "source": [
      "For fixed $T$ and $V$, we have $\\mathrm d F = 0$. For irreversible process, it is less than 0."
     ]
    },
    {
     "cell_type": "markdown",
     "metadata": {},
     "source": [
      "#### Chemical potential"
     ]
    },
    {
     "cell_type": "markdown",
     "metadata": {},
     "source": [
      "Chemical potential is the increased Gibbs free energy when one mole particle is added to the system."
     ]
    }
   ],
   "metadata": {}
  }
 ]
}